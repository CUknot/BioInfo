{
 "cells": [
  {
   "cell_type": "code",
   "execution_count": 2,
   "metadata": {},
   "outputs": [
    {
     "name": "stdout",
     "output_type": "stream",
     "text": [
      "Probability for C(100, 63) * (1/2)^100: 0.0026979276\n",
      "Probability for C(100, 63) * (0.75)^63 * (0.25)^37: 0.0024359579\n"
     ]
    }
   ],
   "source": [
    "import math\n",
    "\n",
    "def calculate_probabilities():\n",
    "    # Binomial coefficient C(100, 63)\n",
    "    n = 100\n",
    "    k = 63\n",
    "    C_n_k = math.comb(n, k)  # or use C_n_k = math.factorial(n) / (math.factorial(k) * math.factorial(n - k))\n",
    "\n",
    "    # First expression: C(100, 63) * (1/2)^100\n",
    "    prob1 = C_n_k * (0.5 ** 100)\n",
    "\n",
    "    # Second expression: C(100, 63) * (0.75)^63 * (0.25)^37\n",
    "    prob2 = C_n_k * (0.75 ** 63) * (0.25 ** 37)\n",
    "\n",
    "    return prob1, prob2\n",
    "\n",
    "# Calculate and print the probabilities\n",
    "prob1, prob2 = calculate_probabilities()\n",
    "print(f\"Probability for C(100, 63) * (1/2)^100: {prob1:.10f}\")\n",
    "print(f\"Probability for C(100, 63) * (0.75)^63 * (0.25)^37: {prob2:.10f}\")\n"
   ]
  },
  {
   "cell_type": "code",
   "execution_count": 3,
   "metadata": {},
   "outputs": [
    {
     "name": "stdout",
     "output_type": "stream",
     "text": [
      "Predicted states: ['fair', 'fair', 'fair', 'fair', 'fair', 'fair', 'fair', 'fair']\n",
      "Probability of the observed sequence: 0.000934\n"
     ]
    }
   ],
   "source": [
    "import numpy as np\n",
    "\n",
    "# Define states and observations\n",
    "states = ['fair', 'bias']\n",
    "observations = ['H', 'T']\n",
    "observed_sequence = \"THHTTHTT\"\n",
    "\n",
    "# Define the transition probabilities\n",
    "transition_probs = {\n",
    "    'fair': {'fair': 0.9, 'bias': 0.1},\n",
    "    'bias': {'fair': 0.1, 'bias': 0.9}\n",
    "}\n",
    "\n",
    "# Define the emission probabilities\n",
    "emission_probs = {\n",
    "    'fair': {'H': 0.5, 'T': 0.5},\n",
    "    'bias': {'H': 0.75, 'T': 0.25}\n",
    "}\n",
    "\n",
    "# Initialize the Viterbi algorithm\n",
    "def viterbi(observed_sequence):\n",
    "    n = len(observed_sequence)\n",
    "    m = len(states)\n",
    "\n",
    "    # Initialize the Viterbi table and the backpointer table\n",
    "    V = np.zeros((m, n))\n",
    "    path = np.zeros((m, n), dtype=int)\n",
    "\n",
    "    # Base case: Initialize the first column of Viterbi table\n",
    "    for s in range(m):\n",
    "        state = states[s]\n",
    "        V[s, 0] = (1 / m) * emission_probs[state].get(observed_sequence[0], 0)\n",
    "\n",
    "    # Fill the Viterbi table\n",
    "    for t in range(1, n):\n",
    "        for s in range(m):\n",
    "            state = states[s]\n",
    "            max_prob = -1\n",
    "            max_state = -1\n",
    "            for s_prev in range(m):\n",
    "                prev_state = states[s_prev]\n",
    "                prob = V[s_prev, t - 1] * transition_probs[prev_state][state] * emission_probs[state].get(observed_sequence[t], 0)\n",
    "                if prob > max_prob:\n",
    "                    max_prob = prob\n",
    "                    max_state = s_prev\n",
    "            V[s, t] = max_prob\n",
    "            path[s, t] = max_state\n",
    "\n",
    "    # Backtrack to find the most likely state sequence\n",
    "    max_prob = -1\n",
    "    best_last_state = -1\n",
    "    for s in range(m):\n",
    "        if V[s, n - 1] > max_prob:\n",
    "            max_prob = V[s, n - 1]\n",
    "            best_last_state = s\n",
    "\n",
    "    best_path = [best_last_state]\n",
    "    for t in range(n - 1, 0, -1):\n",
    "        best_last_state = path[best_last_state, t]\n",
    "        best_path.insert(0, best_last_state)\n",
    "\n",
    "    return [states[state] for state in best_path], max_prob\n",
    "\n",
    "# Execute the Viterbi algorithm\n",
    "predicted_states, probability = viterbi(observed_sequence)\n",
    "\n",
    "# Display the results\n",
    "print(f\"Predicted states: {predicted_states}\")\n",
    "print(f\"Probability of the observed sequence: {probability:.6f}\")\n"
   ]
  },
  {
   "cell_type": "code",
   "execution_count": 30,
   "metadata": {},
   "outputs": [
    {
     "name": "stdout",
     "output_type": "stream",
     "text": [
      "Predicted states: ['fair', 'fair', 'fair', 'fair', 'fair', 'fair', 'fair', 'fair']\n",
      "Probability of the observed sequence: 0.000934\n",
      "Sum of prob: 0.001890\n"
     ]
    }
   ],
   "source": [
    "from itertools import product\n",
    "\n",
    "# Define states and observations\n",
    "states = ['fair', 'bias']\n",
    "observations = ['H', 'T']\n",
    "observed_sequence = \"THHTTHTT\"\n",
    "\n",
    "# Define the transition probabilities\n",
    "transition_probs = {\n",
    "    'fair': {'fair': 0.9, 'bias': 0.1},\n",
    "    'bias': {'fair': 0.1, 'bias': 0.9}\n",
    "}\n",
    "\n",
    "# Define the emission probabilities\n",
    "emission_probs = {\n",
    "    'fair': {'H': 0.5, 'T': 0.5},\n",
    "    'bias': {'H': 0.75, 'T': 0.25}\n",
    "}\n",
    "\n",
    "# Brute-force implementation of the HMM\n",
    "def brute_force_hmm(observed_sequence):\n",
    "    n = len(observed_sequence)\n",
    "    max_prob = -1\n",
    "    sum_prob = 0\n",
    "    best_path = []\n",
    "\n",
    "    # Generate all possible state sequences\n",
    "    all_possible_paths = product(states, repeat=n)\n",
    "\n",
    "    for path in all_possible_paths:\n",
    "        prob = 0.5\n",
    "        # Calculate the probability for this path\n",
    "        for t in range(n):\n",
    "            state = path[t]\n",
    "            prob *= emission_probs[state].get(observed_sequence[t], 0)  # Emission probability\n",
    "\n",
    "            if t > 0:  # Transition probability\n",
    "                prev_state = path[t - 1]\n",
    "                prob *= transition_probs[prev_state][state]\n",
    "\n",
    "        # Check if this is the best path\n",
    "        #print(f\"{path}: {prob}\")\n",
    "        sum_prob += prob\n",
    "        if prob > max_prob:\n",
    "            max_prob = prob\n",
    "            best_path = path\n",
    "\n",
    "    return list(best_path), max_prob, sum_prob\n",
    "\n",
    "# Execute the brute-force HMM\n",
    "predicted_states, probability, sum_prob = brute_force_hmm(observed_sequence)\n",
    "\n",
    "# Display the results\n",
    "print(f\"Predicted states: {predicted_states}\")\n",
    "print(f\"Probability of the observed sequence: {probability:.6f}\")\n",
    "print(f\"Sum of prob: {sum_prob:.6f}\")\n"
   ]
  },
  {
   "cell_type": "code",
   "execution_count": 21,
   "metadata": {},
   "outputs": [
    {
     "name": "stdout",
     "output_type": "stream",
     "text": [
      "0.0009341736328125002\n"
     ]
    }
   ],
   "source": [
    "print(0.5 * 0.9**7 * 0.5 ** 8)"
   ]
  },
  {
   "cell_type": "code",
   "execution_count": 31,
   "metadata": {},
   "outputs": [
    {
     "name": "stdout",
     "output_type": "stream",
     "text": [
      "Predicted states: ['fair', 'fair', 'fair', 'fair', 'fair', 'fair', 'fair', 'fair']\n",
      "Probability of the observed sequence: 0.000934\n",
      "Sum of prob: 0.002504\n"
     ]
    }
   ],
   "source": [
    "from itertools import product\n",
    "\n",
    "# Define states and observations\n",
    "states = ['fair', 'bias']\n",
    "observations = ['H', 'T']\n",
    "observed_sequence = \"HHHTTTTT\"\n",
    "\n",
    "# Define the transition probabilities\n",
    "transition_probs = {\n",
    "    'fair': {'fair': 0.9, 'bias': 0.1},\n",
    "    'bias': {'fair': 0.1, 'bias': 0.9}\n",
    "}\n",
    "\n",
    "# Define the emission probabilities\n",
    "emission_probs = {\n",
    "    'fair': {'H': 0.5, 'T': 0.5},\n",
    "    'bias': {'H': 0.75, 'T': 0.25}\n",
    "}\n",
    "\n",
    "# Brute-force implementation of the HMM\n",
    "def brute_force_hmm(observed_sequence):\n",
    "    n = len(observed_sequence)\n",
    "    max_prob = -1\n",
    "    sum_prob = 0\n",
    "    best_path = []\n",
    "\n",
    "    # Generate all possible state sequences\n",
    "    all_possible_paths = product(states, repeat=n)\n",
    "\n",
    "    for path in all_possible_paths:\n",
    "        prob = 0.5\n",
    "        # Calculate the probability for this path\n",
    "        for t in range(n):\n",
    "            state = path[t]\n",
    "            prob *= emission_probs[state].get(observed_sequence[t], 0)  # Emission probability\n",
    "\n",
    "            if t > 0:  # Transition probability\n",
    "                prev_state = path[t - 1]\n",
    "                prob *= transition_probs[prev_state][state]\n",
    "\n",
    "        # Check if this is the best path\n",
    "        #print(f\"{path}: {prob}\")\n",
    "        sum_prob += prob\n",
    "        if prob > max_prob:\n",
    "            max_prob = prob\n",
    "            best_path = path\n",
    "\n",
    "    return list(best_path), max_prob, sum_prob\n",
    "\n",
    "# Execute the brute-force HMM\n",
    "predicted_states, probability, sum_prob = brute_force_hmm(observed_sequence)\n",
    "\n",
    "# Display the results\n",
    "print(f\"Predicted states: {predicted_states}\")\n",
    "print(f\"Probability of the observed sequence: {probability:.6f}\")\n",
    "print(f\"Sum of prob: {sum_prob:.6f}\")\n"
   ]
  }
 ],
 "metadata": {
  "kernelspec": {
   "display_name": "Python 3",
   "language": "python",
   "name": "python3"
  },
  "language_info": {
   "codemirror_mode": {
    "name": "ipython",
    "version": 3
   },
   "file_extension": ".py",
   "mimetype": "text/x-python",
   "name": "python",
   "nbconvert_exporter": "python",
   "pygments_lexer": "ipython3",
   "version": "3.12.6"
  }
 },
 "nbformat": 4,
 "nbformat_minor": 2
}
