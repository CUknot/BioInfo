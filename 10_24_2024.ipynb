{
 "cells": [
  {
   "cell_type": "code",
   "execution_count": 2,
   "metadata": {},
   "outputs": [
    {
     "name": "stdout",
     "output_type": "stream",
     "text": [
      "Sequence: GCGGAUUUAGCUCAGUUGGGAGAGCGCCAGACUGAAAUCUGGAGGUCCUGUGUUCGAUCCACAGAAUUCGCACCA\n",
      "Dot-Bracket Notation: (((.(((...((..((...(.((.(((((((((..(().)..).)).))).)..)).)))))))))).)))....\n"
     ]
    }
   ],
   "source": [
    "def initialize_matrix(n):\n",
    "    \"\"\"Initialize an n x n matrix with zeros.\"\"\"\n",
    "    return [[0] * n for _ in range(n)]\n",
    "\n",
    "def is_pair(base1, base2):\n",
    "    \"\"\"Check if two bases form a valid pair.\"\"\"\n",
    "    return (base1 == 'A' and base2 == 'U') or (base1 == 'U' and base2 == 'A') or \\\n",
    "           (base1 == 'G' and base2 == 'C') or (base1 == 'C' and base2 == 'G')\n",
    "\n",
    "def nussinov(seq):\n",
    "    \"\"\"Nussinov algorithm to predict RNA secondary structure.\"\"\"\n",
    "    n = len(seq)\n",
    "    dp = initialize_matrix(n)\n",
    "\n",
    "    # Fill the DP table\n",
    "    for k in range(1, n): # gap size\n",
    "        for i in range(n - k):\n",
    "            j = i + k\n",
    "            # Recurrence relation\n",
    "            dp[i][j] = max(\n",
    "                dp[i + 1][j], # Unpaired base at i\n",
    "                dp[i][j - 1], # Unpaired base at j\n",
    "                dp[i + 1][j - 1] + (1 if is_pair(seq[i], seq[j]) else 0),  # Pair (i, j)\n",
    "                max((1 if is_pair(seq[i], seq[t]) else 0) + (1 if is_pair(seq[t + 1], seq[j]) else 0) for t in range(i, j)) # Bifurcation\n",
    "            )\n",
    "\n",
    "    # Backtracking to get the dot-bracket notation\n",
    "    structure = [\".\" for _ in range(n)]\n",
    "\n",
    "    def backtrack(i, j, mode):\n",
    "        if i < j:\n",
    "            if mode:\n",
    "                if dp[i][j] == dp[i + 1][j]:  # i is unpaired\n",
    "                    backtrack(i + 1, j, mode)\n",
    "                elif dp[i][j] == dp[i][j - 1]:  # j is unpaired\n",
    "                    backtrack(i, j - 1, mode)\n",
    "                elif dp[i][j] == dp[i + 1][j - 1] + (1 if is_pair(seq[i], seq[j]) else 0):\n",
    "                    mode = False\n",
    "                    if is_pair(seq[i], seq[j]):\n",
    "                        structure[i] = \"(\"\n",
    "                        structure[j] = \")\"\n",
    "                    backtrack(i + 1, j - 1, mode)\n",
    "                else:\n",
    "                    for t in range(i, j):\n",
    "                        if dp[i][j] == dp[i][t] + dp[t + 1][j]:\n",
    "                            backtrack(i, t, mode)\n",
    "                            backtrack(t + 1, j, mode)\n",
    "                            break\n",
    "            else:\n",
    "                if dp[i][j] == dp[i + 1][j - 1] + (1 if is_pair(seq[i], seq[j]) else 0):\n",
    "                    if is_pair(seq[i], seq[j]):\n",
    "                        structure[i] = \"(\"\n",
    "                        structure[j] = \")\"\n",
    "                    backtrack(i + 1, j - 1, mode)\n",
    "                elif dp[i][j] == dp[i + 1][j]:  # i is unpaired\n",
    "                    mode = True\n",
    "                    backtrack(i + 1, j, mode)\n",
    "                elif dp[i][j] == dp[i][j - 1]:  # j is unpaired\n",
    "                    mode = True\n",
    "                    backtrack(i, j - 1, mode)\n",
    "                else:\n",
    "                    for t in range(i, j):\n",
    "                        if dp[i][j] == dp[i][t] + dp[t + 1][j]:\n",
    "                            backtrack(i, t, mode)\n",
    "                            backtrack(t + 1, j, mode)\n",
    "                            break\n",
    "\n",
    "    backtrack(0, n - 1, True)\n",
    "    return \"\".join(structure)\n",
    "\n",
    "# Usage\n",
    "sequence = \"GCGGAUUUAGCUCAGUUGGGAGAGCGCCAGACUGAAAUCUGGAGGUCCUGUGUUCGAUCCACAGAAUUCGCACCA\"\n",
    "dot_bracket = nussinov(sequence)\n",
    "print(f\"Sequence: {sequence}\")\n",
    "print(f\"Dot-Bracket Notation: {dot_bracket}\")"
   ]
  }
 ],
 "metadata": {
  "kernelspec": {
   "display_name": "Python 3",
   "language": "python",
   "name": "python3"
  },
  "language_info": {
   "codemirror_mode": {
    "name": "ipython",
    "version": 3
   },
   "file_extension": ".py",
   "mimetype": "text/x-python",
   "name": "python",
   "nbconvert_exporter": "python",
   "pygments_lexer": "ipython3",
   "version": "3.12.6"
  }
 },
 "nbformat": 4,
 "nbformat_minor": 2
}
